{
 "cells": [
  {
   "attachments": {},
   "cell_type": "markdown",
   "metadata": {},
   "source": [
    "<h5>Deep Learning, winter semester 2023/2024, Universität Konstanz</h5>\n",
    "\n",
    "\n",
    "<h2>E-Mail Spam Detection</h2>\n",
    "\n",
    "<h3>Svenja Hansing</h3>\n",
    "\n",
    "\n",
    "<h3>Introduction</h3>\n",
    "\n",
    "In this digital world, the exachange of e-mails is immense which results in a high amount of spam e-mails which clutter inboxes and pose serious security risks. Spam emails often include deceptive subject lines, numerous advertisements, unauthorized links, or attempts to gather personal information. Adressing this issue, e-mail spam detection became a crucial task because identifying and filtering spam can not only prevent cyber attacks but also enhance the user experience. Thus, training a neural network that is able to automatically detect spam e-mails by categorising e-mail content into spam of non-spam categories turns out to be strikingly useful and needed. \n",
    "\n",
    "This project aims to develop a neural network using keras that is able to classify e-mails as spam or non-spam automatically by adressessing binary classification problem. A dataset available on kaggle is used which includes content of multiple e-mails labeld as spam and non-spam(ham). The dataset uses the Enron e-mail dataset that contains approximately 500,000 e-mails gernerated by employees of the Enron Corporation. It was obtained by the Federal Energy Regulatory Commission during its investigation of Enron's collapse. This is the May 7, 2015 Version of dataset, as published at https://www.cs.cmu.edu/~./enron/ The dataset is designed to facilitate the development and evaluation of spam detection or e-mail filtering systems. \n"
   ]
  },
  {
   "attachments": {},
   "cell_type": "markdown",
   "metadata": {},
   "source": [
    "<h3>Data Collection & Pre-processing</h3>\n",
    "\n",
    "Collecting the data, a publicly available dataset on kaggle is used. As already mentioned the dataset contains e-mails of the Enron dataset. The dataset which is used contains the orignial e-mails and the labels which categorise the e-mail data into spam and non-spam (ham) emails. The categories are changed to numbers for further processing.\n",
    "\n",
    "For preprocessing the data, the emails are cleaned by removing noisy text, stopwords and non-aphabetic characters. Additionally, characters that might appear in email or web adresses are replaced by strings for detecting and masking appearing e-mail and web adresseses appearing in the e-mails. As the word subject appears in every e-mail, the word is removed. Any further details about the data cleaning steps can be found in the code comments. \n",
    "\n",
    "After the data cleaning, the e-mail data get tokenized and transformed into seuqences. Afterwards, the e-mail data is transformed into padded seuqences. As the labels got changed to numbers in earlier steps, they got hot-label encoded later on to fit the models input appropriately."
   ]
  },
  {
   "cell_type": "code",
   "execution_count": 1,
   "metadata": {},
   "outputs": [
    {
     "name": "stderr",
     "output_type": "stream",
     "text": [
      "2024-02-22 10:08:43.455837: I tensorflow/core/platform/cpu_feature_guard.cc:182] This TensorFlow binary is optimized to use available CPU instructions in performance-critical operations.\n",
      "To enable the following instructions: AVX2 FMA, in other operations, rebuild TensorFlow with the appropriate compiler flags.\n"
     ]
    }
   ],
   "source": [
    "#importing all required libraries \n",
    "import pandas as pd \n",
    "import re\n",
    "import numpy as np\n",
    "import matplotlib.pyplot as plt\n",
    "import seaborn as sns\n",
    "\n",
    "from prettytable import PrettyTable\n",
    "from nltk.corpus import stopwords\n",
    "from tensorflow.keras.preprocessing.text import Tokenizer\n",
    "from tensorflow.keras.preprocessing.sequence import pad_sequences\n",
    "from sklearn.model_selection import train_test_split\n",
    "from tensorflow.keras.callbacks import EarlyStopping\n",
    "\n",
    "from sklearn.metrics import accuracy_score, classification_report, precision_score,recall_score,f1_score, confusion_matrix\n",
    "from tensorflow.keras.models import Sequential\n",
    "from tensorflow.keras.layers import Dense, Embedding, Dropout, Flatten, GlobalAveragePooling1D, LSTM\n",
    "from tensorflow.keras.utils import to_categorical\n"
   ]
  },
  {
   "cell_type": "code",
   "execution_count": 2,
   "metadata": {},
   "outputs": [
    {
     "data": {
      "text/html": [
       "<div>\n",
       "<style scoped>\n",
       "    .dataframe tbody tr th:only-of-type {\n",
       "        vertical-align: middle;\n",
       "    }\n",
       "\n",
       "    .dataframe tbody tr th {\n",
       "        vertical-align: top;\n",
       "    }\n",
       "\n",
       "    .dataframe thead th {\n",
       "        text-align: right;\n",
       "    }\n",
       "</style>\n",
       "<table border=\"1\" class=\"dataframe\">\n",
       "  <thead>\n",
       "    <tr style=\"text-align: right;\">\n",
       "      <th></th>\n",
       "      <th>email</th>\n",
       "      <th>label</th>\n",
       "    </tr>\n",
       "  </thead>\n",
       "  <tbody>\n",
       "    <tr>\n",
       "      <th>0</th>\n",
       "      <td>Subject: re : rankings\\nthank you .</td>\n",
       "      <td>ham</td>\n",
       "    </tr>\n",
       "    <tr>\n",
       "      <th>1</th>\n",
       "      <td>Subject: re : visit to enron\\nvince ,\\ndec . 2...</td>\n",
       "      <td>ham</td>\n",
       "    </tr>\n",
       "    <tr>\n",
       "      <th>2</th>\n",
       "      <td>Subject: research group move to the 19 th floo...</td>\n",
       "      <td>ham</td>\n",
       "    </tr>\n",
       "    <tr>\n",
       "      <th>3</th>\n",
       "      <td>Subject: christmas baskets\\nthe christmas bask...</td>\n",
       "      <td>ham</td>\n",
       "    </tr>\n",
       "    <tr>\n",
       "      <th>4</th>\n",
       "      <td>Subject: japan candidate\\nvince ,\\ni spoke wit...</td>\n",
       "      <td>ham</td>\n",
       "    </tr>\n",
       "    <tr>\n",
       "      <th>...</th>\n",
       "      <td>...</td>\n",
       "      <td>...</td>\n",
       "    </tr>\n",
       "    <tr>\n",
       "      <th>5849</th>\n",
       "      <td>Subject: tetm : 22 , interest : 3 . 55 %\\nha h...</td>\n",
       "      <td>spam</td>\n",
       "    </tr>\n",
       "    <tr>\n",
       "      <th>5850</th>\n",
       "      <td>Subject: localized software , all languages av...</td>\n",
       "      <td>spam</td>\n",
       "    </tr>\n",
       "    <tr>\n",
       "      <th>5851</th>\n",
       "      <td>Subject: instant branded software download\\nso...</td>\n",
       "      <td>spam</td>\n",
       "    </tr>\n",
       "    <tr>\n",
       "      <th>5852</th>\n",
       "      <td>Subject: localized software , all languages av...</td>\n",
       "      <td>spam</td>\n",
       "    </tr>\n",
       "    <tr>\n",
       "      <th>5853</th>\n",
       "      <td>Subject: microsoft autoroute 2005 dvd uk - $ 1...</td>\n",
       "      <td>spam</td>\n",
       "    </tr>\n",
       "  </tbody>\n",
       "</table>\n",
       "<p>5854 rows × 2 columns</p>\n",
       "</div>"
      ],
      "text/plain": [
       "                                                  email label\n",
       "0                   Subject: re : rankings\\nthank you .   ham\n",
       "1     Subject: re : visit to enron\\nvince ,\\ndec . 2...   ham\n",
       "2     Subject: research group move to the 19 th floo...   ham\n",
       "3     Subject: christmas baskets\\nthe christmas bask...   ham\n",
       "4     Subject: japan candidate\\nvince ,\\ni spoke wit...   ham\n",
       "...                                                 ...   ...\n",
       "5849  Subject: tetm : 22 , interest : 3 . 55 %\\nha h...  spam\n",
       "5850  Subject: localized software , all languages av...  spam\n",
       "5851  Subject: instant branded software download\\nso...  spam\n",
       "5852  Subject: localized software , all languages av...  spam\n",
       "5853  Subject: microsoft autoroute 2005 dvd uk - $ 1...  spam\n",
       "\n",
       "[5854 rows x 2 columns]"
      ]
     },
     "execution_count": 2,
     "metadata": {},
     "output_type": "execute_result"
    }
   ],
   "source": [
    "#reading in the dataset\n",
    "data = pd.read_csv(\"/compLing/students/courses/deepLearning2324/finalProject/svenja.hansing/email_spam_data.csv\")\n",
    "\n",
    "#giving out the data\n",
    "data"
   ]
  },
  {
   "cell_type": "code",
   "execution_count": 3,
   "metadata": {},
   "outputs": [
    {
     "data": {
      "text/plain": [
       "\"Subject: imperial capital - thursday schedule\\nthe following is the schedule for thursday ' s meeting with imperial capital .\\ncurrently all meetings are scheduled in eb 2868 . we are trying to arrange a\\ndifferent conference room and will let you know if we obtain one .\\n9 : 00 am - jim fallon - electricity\\n9 : 30 am - fred lagrasta - gas\\n10 : 00 am - lynda clemmons and david kistler - weather\\n10 : 30 am - ed ondarza - pulp and paper\\n11 : 00 am - stinson gibner - research\\n12 noon - lunch\\n1 : 00 pm - 5 : 00 pm - discussion\\nthanks in advance to all who will come to speak in the morning .\""
      ]
     },
     "execution_count": 3,
     "metadata": {},
     "output_type": "execute_result"
    }
   ],
   "source": [
    "#looking at an example\n",
    "data[\"email\"][11]"
   ]
  },
  {
   "cell_type": "code",
   "execution_count": 4,
   "metadata": {},
   "outputs": [],
   "source": [
    "#renaming the email column (not necessarily required) \n",
    "data = data.rename(columns={'email':'mails'})"
   ]
  },
  {
   "cell_type": "code",
   "execution_count": 5,
   "metadata": {},
   "outputs": [
    {
     "data": {
      "text/plain": [
       "(5854, 2)"
      ]
     },
     "execution_count": 5,
     "metadata": {},
     "output_type": "execute_result"
    }
   ],
   "source": [
    "#looking at the shape of the data\n",
    "data.shape"
   ]
  },
  {
   "cell_type": "code",
   "execution_count": 6,
   "metadata": {},
   "outputs": [
    {
     "name": "stdout",
     "output_type": "stream",
     "text": [
      "<class 'pandas.core.frame.DataFrame'>\n",
      "RangeIndex: 5854 entries, 0 to 5853\n",
      "Data columns (total 2 columns):\n",
      " #   Column  Non-Null Count  Dtype \n",
      "---  ------  --------------  ----- \n",
      " 0   mails   5854 non-null   object\n",
      " 1   label   5854 non-null   object\n",
      "dtypes: object(2)\n",
      "memory usage: 91.6+ KB\n"
     ]
    }
   ],
   "source": [
    "#observing the data more precisely just to get a better overview\n",
    "data.info()"
   ]
  },
  {
   "cell_type": "code",
   "execution_count": 7,
   "metadata": {},
   "outputs": [
    {
     "data": {
      "text/plain": [
       "0       0\n",
       "1       0\n",
       "2       0\n",
       "3       0\n",
       "4       0\n",
       "       ..\n",
       "5849    1\n",
       "5850    1\n",
       "5851    1\n",
       "5852    1\n",
       "5853    1\n",
       "Name: labels, Length: 5854, dtype: int64"
      ]
     },
     "execution_count": 7,
     "metadata": {},
     "output_type": "execute_result"
    }
   ],
   "source": [
    "#replacing categories (ham, spam) with numbers for the model\n",
    "data['labels'] = data['label'].map({'ham':0,\n",
    "                                    'spam':1})\n",
    "data['labels']\n",
    "\n"
   ]
  },
  {
   "cell_type": "code",
   "execution_count": 8,
   "metadata": {},
   "outputs": [
    {
     "data": {
      "text/plain": [
       "0                     Subject: re : rankings\\nthank you .\n",
       "1       Subject: re : visit to enron\\nvince ,\\ndec . 2...\n",
       "2       Subject: research group move to the 19 th floo...\n",
       "3       Subject: christmas baskets\\nthe christmas bask...\n",
       "4       Subject: japan candidate\\nvince ,\\ni spoke wit...\n",
       "                              ...                        \n",
       "5849    Subject: tetm : 22 , interest : 3 . 55 %\\nha h...\n",
       "5850    Subject: localized software , all languages av...\n",
       "5851    Subject: instant branded software download\\nso...\n",
       "5852    Subject: localized software , all languages av...\n",
       "5853    Subject: microsoft autoroute 2005 dvd uk - $ 1...\n",
       "Name: mails, Length: 5854, dtype: object"
      ]
     },
     "execution_count": 8,
     "metadata": {},
     "output_type": "execute_result"
    }
   ],
   "source": [
    "data['mails']"
   ]
  },
  {
   "cell_type": "code",
   "execution_count": 9,
   "metadata": {},
   "outputs": [
    {
     "name": "stdout",
     "output_type": "stream",
     "text": [
      "0                                          rankings thank\n",
      "1       visit enron vince dec fine talked shirley dire...\n",
      "2       research group move th floor hello case feel e...\n",
      "3       christmas baskets christmas baskets ordered or...\n",
      "4       japan candidate vince spoke whalley sa offsite...\n",
      "                              ...                        \n",
      "5849    tetm interest ha http voj hcdc rote espoeiur u...\n",
      "5850    localized software languages available hello w...\n",
      "5851    instant branded software download software sal...\n",
      "5852    localized software languages available hello w...\n",
      "5853    microsoft autoroute dvd uk discounted software...\n",
      "Name: mails, Length: 5854, dtype: object\n"
     ]
    }
   ],
   "source": [
    "#data cleaning\n",
    "\n",
    "#nltk.download('stopwords')\n",
    "stop_words = set(stopwords.words('english')) #defining the stopwords (english) downloaded from nltk\n",
    "\n",
    "\n",
    "def clean_data(text): #cleaning data function which takes in the text\n",
    "    text = text.lower() #converts all characters in the text to lowercase\n",
    "    text = re.sub(r'\\n+', ' ', text) #replacing new lines\n",
    "    text = re.sub(r'\\d+', ' ', text) #remove all digits\n",
    "    text = re.sub(r'[^\\w\\s]', ' ', text) #replaces every non-word and non-space characters with a space\n",
    "    text = re.sub(r'^.+@[^\\.].*\\.[a-z]{2,}$', 'mailaddress', text) #replaces email adresses with the string 'email adress'\n",
    "    text = re.sub(r'^http\\://[a-zA-Z0-9\\-\\.]+\\.[a-zA-Z]{2,3}(/\\S*)?$', 'webaddress', text) #replaces url's with the string 'webadress'\n",
    "    text = re.sub(r'subject', ' ', text) #replaces the word subject which is present in every email header\n",
    "    text = re.sub(r'\\s+', ' ', text).strip() #replaces one or more whitespaces with a single space\n",
    "    text = ' '.join(word for word in text.split() if word not in stop_words) #tokenizes text into words, removes any stopwords + joins remaining words back into a single string\n",
    "\n",
    "    return text #returns text\n",
    "\n",
    "\n",
    "data['mails'] = data.loc[:,'mails'].map(clean_data) #applies the clean data function to the mails column to clean every mail \n",
    "\n",
    "print(data['mails']) #prints the cleaned data"
   ]
  },
  {
   "cell_type": "code",
   "execution_count": 10,
   "metadata": {},
   "outputs": [
    {
     "name": "stderr",
     "output_type": "stream",
     "text": [
      "/var/folders/pt/7xp3d8tn1h1d7pm_d_3dp5tr0000gn/T/ipykernel_35292/344605855.py:5: VisibleDeprecationWarning: Creating an ndarray from ragged nested sequences (which is a list-or-tuple of lists-or-tuples-or ndarrays with different lengths or shapes) is deprecated. If you meant to do this, you must specify 'dtype=object' when creating the ndarray.\n",
      "  X = np.array(X) #converting list of sequences into a numpy array\n"
     ]
    }
   ],
   "source": [
    "#tokenizing the text to tranform them to seuquences which get padded then \n",
    "tokenizer = Tokenizer() #this tokenizer is used to vectorize the mails into sequences of integers\n",
    "tokenizer.fit_on_texts(data['mails']) #tokenizer applied to the mails column \n",
    "X = tokenizer.texts_to_sequences(data['mails']) #converting the mails into seuqences \n",
    "X = np.array(X) #converting list of sequences into a numpy array\n",
    "X = pad_sequences(X, maxlen=100) #padding or truncating the sequences to make them all the same length which is here 100"
   ]
  },
  {
   "cell_type": "code",
   "execution_count": 11,
   "metadata": {},
   "outputs": [
    {
     "name": "stdout",
     "output_type": "stream",
     "text": [
      "[[1 0]\n",
      " [1 0]\n",
      " [1 0]\n",
      " ...\n",
      " [0 1]\n",
      " [0 1]\n",
      " [0 1]]\n"
     ]
    }
   ],
   "source": [
    "labels = data['labels'] #assigning labels variable\n",
    "labels = to_categorical(labels, dtype =\"uint8\") #converting categorical labels into one-hot encoded vectors to make them fit the model\n",
    "print(labels)"
   ]
  },
  {
   "cell_type": "code",
   "execution_count": 12,
   "metadata": {},
   "outputs": [
    {
     "data": {
      "text/plain": [
       "(4683,)"
      ]
     },
     "execution_count": 12,
     "metadata": {},
     "output_type": "execute_result"
    }
   ],
   "source": [
    "#splitting the dataset into test and train data with a test size of 0.2 and a random state of 42\n",
    "X_train, X_test, y_train, y_test = train_test_split(X , data['labels'], test_size = 0.2, random_state = 42)\n",
    "\n",
    "#observing the shapes\n",
    "X_train.shape \n",
    "y_train.shape"
   ]
  },
  {
   "attachments": {},
   "cell_type": "markdown",
   "metadata": {},
   "source": [
    "<h3>Creating & Training the model</h3>\n",
    "\n",
    "For creating a suitable neural network/language model for email spam detection, keras is used. More precisely, in the follwoing models, sequential calls for Keras sequential model in which layers are added in a sequence. By finding the best fit model for the task, various adjustments of the parameters and different choices of layers are applied. Moreover, varying dropout rates and activation functions are applied. When fitting the models, early stoppting is included which stops training if after three epochs the validation loss does not decrease. This prevent overfitting if training the models. All models are evaluated with the accuracy metrics to ensure an even comparison.\n",
    "\n",
    "These experimentations can be found in the follwoing. "
   ]
  },
  {
   "attachments": {},
   "cell_type": "markdown",
   "metadata": {},
   "source": [
    "<h5>Model 1</h5>\n",
    "\n",
    "- For creating a first mode, a really simple one is used. \n",
    "\n",
    "- The vocabulary size is defined based on the tokenizer word index. \n",
    "\n",
    "- Embedding layer maps each word to a N-dimensional vector of real numbers. This layer uses a embedding dimension of 24 which is the size of this vector. It indicates that two words with a similar meaning tend to have a very close vectors. As it is the fist hidden layer in the model architecture, the shape of the input layer is defined by the input length which is the maximum lengt of 100. \n",
    "\n",
    "- A relu activation function and a sigmoind activation function as final output layer. The sigmoind layer and the single output neuron is used since only two classes (ham and spam) are used for classification. The sigmoid activation function gives out probabilities between 0 and 1. \n",
    "\n",
    "- For compiling the model, the binary crossentropy as loss function, adam optimizer (momentum) and a accuracy metrics is used. The binary crossentropy is used since we have a binary classification task. The accuracy measures the model perfomance on its accuracy."
   ]
  },
  {
   "cell_type": "code",
   "execution_count": 13,
   "metadata": {},
   "outputs": [
    {
     "name": "stdout",
     "output_type": "stream",
     "text": [
      "Model: \"sequential\"\n",
      "_________________________________________________________________\n",
      " Layer (type)                Output Shape              Param #   \n",
      "=================================================================\n",
      " embedding (Embedding)       (None, 100, 24)           866736    \n",
      "                                                                 \n",
      " dense (Dense)               (None, 100, 56)           1400      \n",
      "                                                                 \n",
      " dense_1 (Dense)             (None, 100, 1)            57        \n",
      "                                                                 \n",
      "=================================================================\n",
      "Total params: 868193 (3.31 MB)\n",
      "Trainable params: 868193 (3.31 MB)\n",
      "Non-trainable params: 0 (0.00 Byte)\n",
      "_________________________________________________________________\n"
     ]
    }
   ],
   "source": [
    "vocab_size = len(tokenizer.word_index) + 1 #defining the vocab_size which represents the total number of unique words + accounting for special tokens\n",
    "\n",
    "#sequential model\n",
    "model = Sequential()\n",
    "\n",
    "#adding layers as described above \n",
    "model.add(Embedding(vocab_size, 24, input_length=100)) \n",
    "model.add(Dense(56, activation = 'relu')) \n",
    "model.add(Dense(1, activation = 'sigmoid')) \n",
    "\n",
    "#compiling the model\n",
    "model.compile(loss = 'binary_crossentropy',\n",
    "              optimizer = 'adam',\n",
    "              metrics = ['accuracy'])\n",
    "\n",
    "#creating model summary\n",
    "model.summary()"
   ]
  },
  {
   "cell_type": "code",
   "execution_count": 14,
   "metadata": {},
   "outputs": [
    {
     "name": "stdout",
     "output_type": "stream",
     "text": [
      "Epoch 1/30\n",
      "74/74 [==============================] - 1s 8ms/step - loss: 0.6229 - accuracy: 0.7297 - val_loss: 0.5394 - val_accuracy: 0.7416\n",
      "Epoch 2/30\n",
      "74/74 [==============================] - 0s 6ms/step - loss: 0.4773 - accuracy: 0.7776 - val_loss: 0.4646 - val_accuracy: 0.7774\n",
      "Epoch 3/30\n",
      "74/74 [==============================] - 0s 6ms/step - loss: 0.4303 - accuracy: 0.8005 - val_loss: 0.4541 - val_accuracy: 0.7790\n",
      "Epoch 4/30\n",
      "74/74 [==============================] - 0s 6ms/step - loss: 0.4171 - accuracy: 0.8040 - val_loss: 0.4521 - val_accuracy: 0.7791\n",
      "Epoch 5/30\n",
      "74/74 [==============================] - 0s 6ms/step - loss: 0.4120 - accuracy: 0.8044 - val_loss: 0.4517 - val_accuracy: 0.7788\n",
      "Epoch 6/30\n",
      "74/74 [==============================] - 1s 7ms/step - loss: 0.4092 - accuracy: 0.8037 - val_loss: 0.4523 - val_accuracy: 0.7784\n",
      "Epoch 7/30\n",
      "74/74 [==============================] - 0s 6ms/step - loss: 0.4065 - accuracy: 0.8043 - val_loss: 0.4524 - val_accuracy: 0.7782\n",
      "Epoch 8/30\n",
      "74/74 [==============================] - 0s 6ms/step - loss: 0.4055 - accuracy: 0.8043 - val_loss: 0.4527 - val_accuracy: 0.7792\n"
     ]
    }
   ],
   "source": [
    "#early stopping\n",
    "early_stop = EarlyStopping(monitor='val_loss', patience=3)\n",
    "\n",
    "#fitting the model with 30 epochs, a batch size of 64 and validation data which is the test data\n",
    "#the same is applied to all models to have an even comparison\n",
    "history = model.fit(X_train, y_train, epochs = 30, batch_size = 64, validation_data = [X_test, y_test], callbacks = [early_stop])"
   ]
  },
  {
   "attachments": {},
   "cell_type": "markdown",
   "metadata": {},
   "source": [
    "<h5>Model 2</h5>\n",
    "\n",
    "The same as in the first model but adding a flatten layer and increasing the dimensions of the relu activation function."
   ]
  },
  {
   "cell_type": "code",
   "execution_count": 15,
   "metadata": {},
   "outputs": [
    {
     "name": "stdout",
     "output_type": "stream",
     "text": [
      "Model: \"sequential_1\"\n",
      "_________________________________________________________________\n",
      " Layer (type)                Output Shape              Param #   \n",
      "=================================================================\n",
      " embedding_1 (Embedding)     (None, 100, 24)           866736    \n",
      "                                                                 \n",
      " flatten (Flatten)           (None, 2400)              0         \n",
      "                                                                 \n",
      " dense_2 (Dense)             (None, 128)               307328    \n",
      "                                                                 \n",
      " dense_3 (Dense)             (None, 1)                 129       \n",
      "                                                                 \n",
      "=================================================================\n",
      "Total params: 1174193 (4.48 MB)\n",
      "Trainable params: 1174193 (4.48 MB)\n",
      "Non-trainable params: 0 (0.00 Byte)\n",
      "_________________________________________________________________\n"
     ]
    }
   ],
   "source": [
    "vocab_size = len(tokenizer.word_index) + 1\n",
    "\n",
    "model1 = Sequential()\n",
    "\n",
    "model1.add(Embedding(vocab_size, 24, input_length=100))\n",
    "model1.add(Flatten(input_shape = X_train.shape[1:])) #flatten layer and specifying the input shape (excluding batch dimension)\n",
    "model1.add(Dense(128, activation = 'relu')) #increased dimensionality\n",
    "model1.add(Dense(1, activation = 'sigmoid'))\n",
    "\n",
    "model1.compile(loss = 'binary_crossentropy',\n",
    "              optimizer = 'adam',\n",
    "              metrics = ['accuracy'])\n",
    "\n",
    "model1.summary()\n"
   ]
  },
  {
   "cell_type": "code",
   "execution_count": 16,
   "metadata": {},
   "outputs": [
    {
     "name": "stdout",
     "output_type": "stream",
     "text": [
      "Epoch 1/30\n",
      "74/74 [==============================] - 1s 9ms/step - loss: 0.3802 - accuracy: 0.8354 - val_loss: 0.0855 - val_accuracy: 0.9787\n",
      "Epoch 2/30\n",
      "74/74 [==============================] - 1s 7ms/step - loss: 0.0251 - accuracy: 0.9959 - val_loss: 0.0444 - val_accuracy: 0.9795\n",
      "Epoch 3/30\n",
      "74/74 [==============================] - 1s 9ms/step - loss: 0.0038 - accuracy: 0.9998 - val_loss: 0.0374 - val_accuracy: 0.9829\n",
      "Epoch 4/30\n",
      "74/74 [==============================] - 1s 7ms/step - loss: 0.0016 - accuracy: 0.9998 - val_loss: 0.0337 - val_accuracy: 0.9855\n",
      "Epoch 5/30\n",
      "74/74 [==============================] - 1s 7ms/step - loss: 8.8021e-04 - accuracy: 0.9998 - val_loss: 0.0355 - val_accuracy: 0.9838\n",
      "Epoch 6/30\n",
      "74/74 [==============================] - 1s 8ms/step - loss: 5.1388e-04 - accuracy: 1.0000 - val_loss: 0.0350 - val_accuracy: 0.9838\n",
      "Epoch 7/30\n",
      "74/74 [==============================] - 1s 7ms/step - loss: 3.7156e-04 - accuracy: 1.0000 - val_loss: 0.0341 - val_accuracy: 0.9838\n"
     ]
    }
   ],
   "source": [
    "early_stop = EarlyStopping(monitor='val_loss', patience=3)\n",
    "\n",
    "history1 = model1.fit(X_train, y_train, epochs = 30, batch_size = 64, validation_data = [X_test, y_test], callbacks = [early_stop])"
   ]
  },
  {
   "attachments": {},
   "cell_type": "markdown",
   "metadata": {},
   "source": [
    "<h5>Model 3</h5>\n",
    "\n",
    "In this model a dropout rate of 0.5 is added to see how the model performs here. "
   ]
  },
  {
   "cell_type": "code",
   "execution_count": 17,
   "metadata": {},
   "outputs": [
    {
     "name": "stdout",
     "output_type": "stream",
     "text": [
      "Model: \"sequential_2\"\n",
      "_________________________________________________________________\n",
      " Layer (type)                Output Shape              Param #   \n",
      "=================================================================\n",
      " embedding_2 (Embedding)     (None, 100, 24)           866736    \n",
      "                                                                 \n",
      " flatten_1 (Flatten)         (None, 2400)              0         \n",
      "                                                                 \n",
      " dense_4 (Dense)             (None, 28)                67228     \n",
      "                                                                 \n",
      " dropout (Dropout)           (None, 28)                0         \n",
      "                                                                 \n",
      " dense_5 (Dense)             (None, 28)                812       \n",
      "                                                                 \n",
      " dropout_1 (Dropout)         (None, 28)                0         \n",
      "                                                                 \n",
      " dense_6 (Dense)             (None, 1)                 29        \n",
      "                                                                 \n",
      "=================================================================\n",
      "Total params: 934805 (3.57 MB)\n",
      "Trainable params: 934805 (3.57 MB)\n",
      "Non-trainable params: 0 (0.00 Byte)\n",
      "_________________________________________________________________\n"
     ]
    }
   ],
   "source": [
    "model2 = Sequential()\n",
    "\n",
    "model2.add(Embedding(vocab_size, 24, input_length=100))\n",
    "model2.add(Flatten(input_shape = X_train.shape[1:]))\n",
    "model2.add(Dense(28, activation = 'relu'))\n",
    "model2.add(Dropout(0.5))\n",
    "model2.add(Dense(28, activation = 'relu'))\n",
    "model2.add(Dropout(0.5))\n",
    "model2.add(Dense(1, activation = 'sigmoid'))\n",
    "\n",
    "model2.compile(loss = 'binary_crossentropy',\n",
    "              optimizer = 'adam',\n",
    "              metrics = ['accuracy'])\n",
    "\n",
    "model2.summary()"
   ]
  },
  {
   "cell_type": "code",
   "execution_count": 18,
   "metadata": {},
   "outputs": [
    {
     "name": "stdout",
     "output_type": "stream",
     "text": [
      "Epoch 1/30\n",
      "74/74 [==============================] - 1s 6ms/step - loss: 0.6098 - accuracy: 0.7102 - val_loss: 0.4411 - val_accuracy: 0.7412\n",
      "Epoch 2/30\n",
      "74/74 [==============================] - 0s 5ms/step - loss: 0.2635 - accuracy: 0.8512 - val_loss: 0.0788 - val_accuracy: 0.9821\n",
      "Epoch 3/30\n",
      "74/74 [==============================] - 0s 4ms/step - loss: 0.0439 - accuracy: 0.9938 - val_loss: 0.0349 - val_accuracy: 0.9855\n",
      "Epoch 4/30\n",
      "74/74 [==============================] - 0s 5ms/step - loss: 0.0110 - accuracy: 0.9987 - val_loss: 0.0436 - val_accuracy: 0.9829\n",
      "Epoch 5/30\n",
      "74/74 [==============================] - 0s 4ms/step - loss: 0.0103 - accuracy: 0.9977 - val_loss: 0.0541 - val_accuracy: 0.9812\n",
      "Epoch 6/30\n",
      "74/74 [==============================] - 0s 4ms/step - loss: 0.0048 - accuracy: 0.9989 - val_loss: 0.0447 - val_accuracy: 0.9863\n"
     ]
    }
   ],
   "source": [
    "early_stop = EarlyStopping(monitor='val_loss', patience=3)\n",
    "\n",
    "\n",
    "history2 = model2.fit(X_train, y_train, epochs = 30, batch_size = 64, validation_data = [X_test, y_test], callbacks = [early_stop])"
   ]
  },
  {
   "attachments": {},
   "cell_type": "markdown",
   "metadata": {},
   "source": [
    "<h5>Model 4</h5>\n",
    "\n",
    "Here is a shallow neural network architecture including a GlobalAveragePooling1D layer. This layer reduces the number of parameters in the model and is able to avoid overfitting. It averages across the data which lead to better representations of the vector. "
   ]
  },
  {
   "cell_type": "code",
   "execution_count": 19,
   "metadata": {},
   "outputs": [
    {
     "name": "stdout",
     "output_type": "stream",
     "text": [
      "Model: \"sequential_3\"\n",
      "_________________________________________________________________\n",
      " Layer (type)                Output Shape              Param #   \n",
      "=================================================================\n",
      " embedding_3 (Embedding)     (None, 100, 16)           577824    \n",
      "                                                                 \n",
      " global_average_pooling1d (  (None, 16)                0         \n",
      " GlobalAveragePooling1D)                                         \n",
      "                                                                 \n",
      " dense_7 (Dense)             (None, 24)                408       \n",
      "                                                                 \n",
      " dropout_2 (Dropout)         (None, 24)                0         \n",
      "                                                                 \n",
      " dense_8 (Dense)             (None, 1)                 25        \n",
      "                                                                 \n",
      "=================================================================\n",
      "Total params: 578257 (2.21 MB)\n",
      "Trainable params: 578257 (2.21 MB)\n",
      "Non-trainable params: 0 (0.00 Byte)\n",
      "_________________________________________________________________\n"
     ]
    }
   ],
   "source": [
    "model3 = Sequential() #sequential model\n",
    "\n",
    "model3.add(Embedding(input_dim=vocab_size, output_dim= 16, input_length=100)) #embedding layer\n",
    "model3.add(GlobalAveragePooling1D()) #global average pooling layer\n",
    "model3.add(Dense(24, activation='relu')) #relu activation function \n",
    "model3.add(Dropout(0.2)) #dropout rate\n",
    "model3.add(Dense(1, activation='sigmoid')) #single output neuron + sigmoid activation function because there are only two classes (ham/spam)\n",
    "\n",
    "#compiling model as before\n",
    "model3.compile(loss='binary_crossentropy',\n",
    "              optimizer='adam',\n",
    "              metrics=['accuracy'])\n",
    "\n",
    "model3.summary()\n"
   ]
  },
  {
   "cell_type": "code",
   "execution_count": 20,
   "metadata": {},
   "outputs": [
    {
     "name": "stdout",
     "output_type": "stream",
     "text": [
      "Epoch 1/30\n",
      "74/74 [==============================] - 1s 5ms/step - loss: 0.6249 - accuracy: 0.7435 - val_loss: 0.5492 - val_accuracy: 0.7370\n",
      "Epoch 2/30\n",
      "74/74 [==============================] - 0s 4ms/step - loss: 0.4596 - accuracy: 0.7529 - val_loss: 0.3798 - val_accuracy: 0.7694\n",
      "Epoch 3/30\n",
      "74/74 [==============================] - 0s 3ms/step - loss: 0.2889 - accuracy: 0.8708 - val_loss: 0.2413 - val_accuracy: 0.9044\n",
      "Epoch 4/30\n",
      "74/74 [==============================] - 0s 3ms/step - loss: 0.1785 - accuracy: 0.9639 - val_loss: 0.1560 - val_accuracy: 0.9795\n",
      "Epoch 5/30\n",
      "74/74 [==============================] - 0s 3ms/step - loss: 0.1043 - accuracy: 0.9898 - val_loss: 0.1031 - val_accuracy: 0.9821\n",
      "Epoch 6/30\n",
      "74/74 [==============================] - 0s 3ms/step - loss: 0.0637 - accuracy: 0.9964 - val_loss: 0.0775 - val_accuracy: 0.9821\n",
      "Epoch 7/30\n",
      "74/74 [==============================] - 0s 3ms/step - loss: 0.0433 - accuracy: 0.9970 - val_loss: 0.0641 - val_accuracy: 0.9846\n",
      "Epoch 8/30\n",
      "74/74 [==============================] - 0s 3ms/step - loss: 0.0314 - accuracy: 0.9974 - val_loss: 0.0575 - val_accuracy: 0.9821\n",
      "Epoch 9/30\n",
      "74/74 [==============================] - 0s 3ms/step - loss: 0.0238 - accuracy: 0.9983 - val_loss: 0.0525 - val_accuracy: 0.9829\n",
      "Epoch 10/30\n",
      "74/74 [==============================] - 0s 3ms/step - loss: 0.0190 - accuracy: 0.9991 - val_loss: 0.0491 - val_accuracy: 0.9829\n",
      "Epoch 11/30\n",
      "74/74 [==============================] - 0s 3ms/step - loss: 0.0159 - accuracy: 0.9989 - val_loss: 0.0476 - val_accuracy: 0.9829\n",
      "Epoch 12/30\n",
      "74/74 [==============================] - 0s 3ms/step - loss: 0.0129 - accuracy: 0.9989 - val_loss: 0.0459 - val_accuracy: 0.9829\n",
      "Epoch 13/30\n",
      "74/74 [==============================] - 0s 3ms/step - loss: 0.0111 - accuracy: 0.9987 - val_loss: 0.0454 - val_accuracy: 0.9821\n",
      "Epoch 14/30\n",
      "74/74 [==============================] - 0s 3ms/step - loss: 0.0090 - accuracy: 0.9996 - val_loss: 0.0447 - val_accuracy: 0.9821\n",
      "Epoch 15/30\n",
      "74/74 [==============================] - 0s 3ms/step - loss: 0.0079 - accuracy: 0.9994 - val_loss: 0.0450 - val_accuracy: 0.9821\n",
      "Epoch 16/30\n",
      "74/74 [==============================] - 0s 3ms/step - loss: 0.0070 - accuracy: 1.0000 - val_loss: 0.0437 - val_accuracy: 0.9838\n",
      "Epoch 17/30\n",
      "74/74 [==============================] - 0s 3ms/step - loss: 0.0071 - accuracy: 0.9996 - val_loss: 0.0449 - val_accuracy: 0.9821\n",
      "Epoch 18/30\n",
      "74/74 [==============================] - 0s 3ms/step - loss: 0.0056 - accuracy: 0.9998 - val_loss: 0.0444 - val_accuracy: 0.9821\n",
      "Epoch 19/30\n",
      "74/74 [==============================] - 0s 3ms/step - loss: 0.0052 - accuracy: 1.0000 - val_loss: 0.0447 - val_accuracy: 0.9821\n"
     ]
    }
   ],
   "source": [
    "early_stop = EarlyStopping(monitor='val_loss', patience=3)\n",
    "\n",
    "\n",
    "history3 = model3.fit(X_train, y_train, epochs = 30, batch_size = 64, validation_data = [X_test, y_test], callbacks = [early_stop])"
   ]
  },
  {
   "attachments": {},
   "cell_type": "markdown",
   "metadata": {},
   "source": [
    "<h5>Model 5</h5>\n",
    "\n",
    "This model uses an addtirional LSTM layer."
   ]
  },
  {
   "cell_type": "code",
   "execution_count": 21,
   "metadata": {},
   "outputs": [
    {
     "name": "stdout",
     "output_type": "stream",
     "text": [
      "Model: \"sequential_4\"\n",
      "_________________________________________________________________\n",
      " Layer (type)                Output Shape              Param #   \n",
      "=================================================================\n",
      " embedding_4 (Embedding)     (None, 100, 24)           866736    \n",
      "                                                                 \n",
      " lstm (LSTM)                 (None, 100, 25)           5000      \n",
      "                                                                 \n",
      " lstm_1 (LSTM)               (None, 100, 25)           5100      \n",
      "                                                                 \n",
      " dense_9 (Dense)             (None, 100, 1)            26        \n",
      "                                                                 \n",
      "=================================================================\n",
      "Total params: 876862 (3.34 MB)\n",
      "Trainable params: 876862 (3.34 MB)\n",
      "Non-trainable params: 0 (0.00 Byte)\n",
      "_________________________________________________________________\n"
     ]
    }
   ],
   "source": [
    "model4 = Sequential()\n",
    "\n",
    "model4.add(Embedding(vocab_size, 24, input_length=100))\n",
    "model4.add(LSTM(25, dropout=0.5, return_sequences=True))\n",
    "model4.add(LSTM(25, dropout=0.5, return_sequences=True))\n",
    "\n",
    "model4.add(Dense(1, activation='sigmoid'))\n",
    "\n",
    "#compiling model as before\n",
    "model4.compile(loss='binary_crossentropy',\n",
    "              optimizer='adam',\n",
    "              metrics=['accuracy'])\n",
    "\n",
    "model4.summary()"
   ]
  },
  {
   "cell_type": "code",
   "execution_count": 22,
   "metadata": {},
   "outputs": [
    {
     "name": "stdout",
     "output_type": "stream",
     "text": [
      "Epoch 1/30\n",
      "74/74 [==============================] - 7s 56ms/step - loss: 0.5253 - accuracy: 0.7577 - val_loss: 0.3276 - val_accuracy: 0.8584\n",
      "Epoch 2/30\n",
      "74/74 [==============================] - 4s 48ms/step - loss: 0.2785 - accuracy: 0.8717 - val_loss: 0.2635 - val_accuracy: 0.8767\n",
      "Epoch 3/30\n",
      "74/74 [==============================] - 3s 47ms/step - loss: 0.2224 - accuracy: 0.8937 - val_loss: 0.2460 - val_accuracy: 0.8847\n",
      "Epoch 4/30\n",
      "74/74 [==============================] - 4s 48ms/step - loss: 0.2119 - accuracy: 0.8965 - val_loss: 0.2538 - val_accuracy: 0.8842\n",
      "Epoch 5/30\n",
      "74/74 [==============================] - 4s 48ms/step - loss: 0.2002 - accuracy: 0.9004 - val_loss: 0.2599 - val_accuracy: 0.8848\n",
      "Epoch 6/30\n",
      "74/74 [==============================] - 4s 48ms/step - loss: 0.1961 - accuracy: 0.9022 - val_loss: 0.2708 - val_accuracy: 0.8837\n"
     ]
    }
   ],
   "source": [
    "early_stop = EarlyStopping(monitor='val_loss', patience=3)\n",
    "\n",
    "\n",
    "history4 = model4.fit(X_train, y_train, epochs = 30, batch_size = 64, validation_data = [X_test, y_test], callbacks = [early_stop])"
   ]
  },
  {
   "attachments": {},
   "cell_type": "markdown",
   "metadata": {},
   "source": [
    "<h3>Evaluation of the models</h3>\n",
    "\n",
    "This section evaluates the created models and demonstrates which one performs best. Thereby, the models are compared to each other. The performance of the best model is visualised. \n",
    "\n",
    "By assessing the model performances, the accuracy is calculated to determine how well the models predict the test data based on the training data. \n",
    "\n",
    "- Model Evaluation is done by calling the model.evaluate function to see how the model performed on the test data. Thereby, the average test loss and accuracy is calculated.\n"
   ]
  },
  {
   "cell_type": "code",
   "execution_count": 30,
   "metadata": {},
   "outputs": [
    {
     "name": "stdout",
     "output_type": "stream",
     "text": [
      "37/37 [==============================] - 0s 2ms/step - loss: 0.4527 - accuracy: 0.7792\n",
      "Model1: [0.45265844464302063, 0.7792057394981384] \n",
      "37/37 [==============================] - 0s 2ms/step - loss: 0.0341 - accuracy: 0.9838\n",
      "Model2: [0.03410792350769043, 0.9837745428085327] \n",
      "37/37 [==============================] - 0s 1ms/step - loss: 0.0447 - accuracy: 0.9863\n",
      "Model3: [0.04466761276125908, 0.9863364696502686] \n",
      "37/37 [==============================] - 0s 845us/step - loss: 0.0447 - accuracy: 0.9821\n",
      "Model4: [0.04466528072953224, 0.9820666313171387] \n",
      "37/37 [==============================] - 0s 11ms/step - loss: 0.2708 - accuracy: 0.8837\n",
      "Model5: [0.27075105905532837, 0.8836806416511536] \n"
     ]
    }
   ],
   "source": [
    "#comparing all models\n",
    "\n",
    "print(f\"Model1: {model.evaluate(X_test, y_test)} \" )\n",
    "print(f\"Model2: {model1.evaluate(X_test, y_test)} \" )\n",
    "print(f\"Model3: {model2.evaluate(X_test, y_test)} \" )\n",
    "print(f\"Model4: {model3.evaluate(X_test, y_test)} \" )\n",
    "print(f\"Model5: {model4.evaluate(X_test, y_test)} \" )"
   ]
  },
  {
   "cell_type": "code",
   "execution_count": 29,
   "metadata": {},
   "outputs": [
    {
     "name": "stdout",
     "output_type": "stream",
     "text": [
      "37/37 [==============================] - 0s 2ms/step - loss: 0.4527 - accuracy: 0.7792\n",
      "37/37 [==============================] - 0s 1ms/step - loss: 0.0341 - accuracy: 0.9838\n",
      "37/37 [==============================] - 0s 1ms/step - loss: 0.0447 - accuracy: 0.9863\n",
      "37/37 [==============================] - 0s 976us/step - loss: 0.0447 - accuracy: 0.9821\n",
      "37/37 [==============================] - 0s 10ms/step - loss: 0.2708 - accuracy: 0.8837\n",
      "\n",
      " Model Evaluation Results:\n",
      "+--------+--------+----------+\n",
      "| Model  |  Loss  | Accuracy |\n",
      "+--------+--------+----------+\n",
      "| Model1 | 0.4527 |  0.7792  |\n",
      "| Model2 | 0.0341 |  0.9838  |\n",
      "| Model3 | 0.0447 |  0.9863  |\n",
      "| Model4 | 0.0447 |  0.9821  |\n",
      "| Model5 | 0.2708 |  0.8837  |\n",
      "+--------+--------+----------+\n"
     ]
    }
   ],
   "source": [
    "#create a table with PrettyTable \n",
    "table = PrettyTable()\n",
    "\n",
    "#define table columns\n",
    "table.field_names = [\"Model\", \"Loss\", \"Accuracy\"]\n",
    "\n",
    "#wirting the evaluation of the models in a result dictionary for creating the table \n",
    "results = {\n",
    "    \"Model1\": model.evaluate(X_test, y_test),\n",
    "    \"Model2\": model1.evaluate(X_test, y_test),\n",
    "    \"Model3\": model2.evaluate(X_test, y_test),\n",
    "    \"Model4\": model3.evaluate(X_test, y_test),\n",
    "    \"Model5\": model4.evaluate(X_test, y_test)\n",
    "}\n",
    "\n",
    "#add data to the table\n",
    "for model_name, (loss, accuracy) in results.items():\n",
    "    table.add_row([model_name, f\"{loss:.4f}\", f\"{accuracy:.4f}\"])\n",
    "\n",
    "#print the table\n",
    "print(\"\\n Model Evaluation Results:\")\n",
    "print(table)\n"
   ]
  },
  {
   "attachments": {},
   "cell_type": "markdown",
   "metadata": {},
   "source": [
    "Overall, the table provides a comparative overview of the performance of the five models based on their loss and accuracy metrics on the test data. Model3 stands out with the highest accuracy, representing the highest performance compared to the other models. Model1 has the highest loss and lowest accuracy among the models which indicates the lowest model perfromance. Model5 which includes the LSTM layer also shows low performance compared to the other models. The second model which is a simple neural network architecture with high dimensions seems to be the best fit for the binary classification problem and the e-mail dataset. The performance of the first model can therefore interpreted by its flatness. But important to mention here, Model2-4 reached all high accuracies on the test data meaning that these model all performed good without comparing them. "
   ]
  },
  {
   "cell_type": "code",
   "execution_count": 32,
   "metadata": {},
   "outputs": [
    {
     "data": {
      "image/png": "[encoded data removed]",
      "text/plain": [
       "<Figure size 640x480 with 1 Axes>"
      ]
     },
     "metadata": {},
     "output_type": "display_data"
    }
   ],
   "source": [
    "#plotting the best model \n",
    "\n",
    "#reading as dataframe\n",
    "metrics = pd.DataFrame(history2.history)\n",
    "#rename column\n",
    "metrics.rename(columns = {'loss': 'Training_Loss', 'accuracy': 'Training_Accuracy', 'val_loss': 'Validation_Loss', 'val_accuracy': 'Validation_Accuracy'}, inplace = True)\n",
    "def plot_graphs1(var1, var2, string):\n",
    "    metrics[[var1, var2]].plot()\n",
    "    plt.title('Training and Validation ' + string) #defining the title\n",
    "    plt.xlabel ('Number of epochs') #x-axis\n",
    "    plt.ylabel(string) #y-axis\n",
    "    plt.legend([var1, var2]) #legend of the plot\n",
    "\n",
    "#plotting the graphs and label them \n",
    "plot_graphs1('Training_Loss', 'Validation_Loss', 'Loss')"
   ]
  },
  {
   "attachments": {},
   "cell_type": "markdown",
   "metadata": {},
   "source": [
    "This plot shows the training and validation loss of the best model over the epochs. What can be seen here is that the model loss strongly decreases during the first two epochs. The validation loss increases different to the training loss after around 2.3 epochs. Thus, the validation loss starts to decrease again whereas the training loss slowly continues to decrease. It seems that the model starts to overfit here. "
   ]
  },
  {
   "cell_type": "code",
   "execution_count": 35,
   "metadata": {},
   "outputs": [
    {
     "name": "stdout",
     "output_type": "stream",
     "text": [
      "37/37 [==============================] - 0s 2ms/step\n",
      "              precision    recall  f1-score   support\n",
      "\n",
      "         ham       0.99      0.99      0.99       863\n",
      "        spam       0.98      0.96      0.97       308\n",
      "\n",
      "    accuracy                           0.99      1171\n",
      "   macro avg       0.99      0.98      0.98      1171\n",
      "weighted avg       0.99      0.99      0.99      1171\n",
      "\n",
      "Metrics for best model\n",
      "Accuracy: 98.63%\n",
      "Precision: 98.34%\n",
      "Recall: 96.43%\n",
      "F1 score: 97.38%\n"
     ]
    }
   ],
   "source": [
    "#creating confusion matrix and classification report\n",
    "\n",
    "y_predict = [1 if o > 0.5 else 0 for o in model2.predict(X_test)] #predictions\n",
    "\n",
    "cf_matrix = confusion_matrix(y_test, y_predict) #confusion matrix\n",
    "\n",
    "print(classification_report(y_test, y_predict, target_names = ['ham', 'spam'])) #classification report\n",
    "\n",
    "\n",
    "print('Metrics for best model')\n",
    "print('Accuracy: {:.2f}%'.format(accuracy_score(y_test,y_predict)*100))\n",
    "print('Precision: {:.2f}%'.format(precision_score(y_test,y_predict)*100))\n",
    "print('Recall: {:.2f}%'.format(recall_score(y_test,y_predict)*100))\n",
    "print('F1 score: {:.2f}%'.format(f1_score(y_test,y_predict)*100))"
   ]
  },
  {
   "attachments": {},
   "cell_type": "markdown",
   "metadata": {},
   "source": [
    "This metrics shows the model peformance on the test data and the predictions of the model. It demonstrates also the good performance of model2 which is demonstrated by the plot in the following."
   ]
  },
  {
   "attachments": {},
   "cell_type": "markdown",
   "metadata": {},
   "source": [
    "<h4>Confusion Matrix</h4>"
   ]
  },
  {
   "cell_type": "code",
   "execution_count": 36,
   "metadata": {},
   "outputs": [
    {
     "data": {
      "image/png": "[encoded data removed]",
      "text/plain": [
       "<Figure size 640x480 with 2 Axes>"
      ]
     },
     "metadata": {},
     "output_type": "display_data"
    }
   ],
   "source": [
    "#this code creates a plot of the confusion matrix\n",
    "ax= plt.subplot()\n",
    "\n",
    "#annot=True to annotate cells\n",
    "sns.heatmap(cf_matrix, annot=True, ax = ax,cmap='Blues',fmt='');\n",
    "\n",
    "#labels, title and ticks\n",
    "ax.set_xlabel('Predicted labels');\n",
    "ax.set_ylabel('True labels');\n",
    "ax.set_title('Confusion Matrix');\n",
    "ax.xaxis.set_ticklabels(['Not Spam', 'Spam']); ax.yaxis.set_ticklabels(['Not Spam', 'Spam']);"
   ]
  },
  {
   "attachments": {},
   "cell_type": "markdown",
   "metadata": {},
   "source": [
    "The plot visualises the confusion matrix of the best model. It represents that 858 non-spam labels of the test data are recogized as non-spam which are truly non-spam labels and 297 spam labels are correctly recognised as spam labels. 11 spam and 5 non-spam labels, are wrongly predicted by the model meaning that 11 are predicted wrongly as non spam but are spam and 5 non-spam e-mails are worngly predicted as spam. As visualised here, the model performs quite good on the test data."
   ]
  }
 ],
 "metadata": {
  "kernelspec": {
   "display_name": "Python 3",
   "language": "python",
   "name": "python3"
  },
  "language_info": {
   "codemirror_mode": {
    "name": "ipython",
    "version": 3
   },
   "file_extension": ".py",
   "mimetype": "text/x-python",
   "name": "python",
   "nbconvert_exporter": "python",
   "pygments_lexer": "ipython3",
   "version": "3.10.9"
  },
  "orig_nbformat": 4
 },
 "nbformat": 4,
 "nbformat_minor": 2
}
